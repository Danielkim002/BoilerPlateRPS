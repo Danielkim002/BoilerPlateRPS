{
 "cells": [
  {
   "cell_type": "code",
   "execution_count": 1,
   "id": "550cce28",
   "metadata": {},
   "outputs": [],
   "source": [
    "from __future__ import absolute_import, division, print_function, unicode_literals\n",
    "\n",
    "import tensorflow as tf\n",
    "\n",
    "import pandas as pd\n"
   ]
  },
  {
   "cell_type": "code",
   "execution_count": 2,
   "id": "5ca6267e",
   "metadata": {},
   "outputs": [],
   "source": [
    "#This code creates the csv column names, and identifies different classifications\n",
    "CSV_COLUMN_NAMES = ['SepalLength', 'SepalWidth', 'PetalLength', 'PetalWidth', 'Species'] \n",
    "SPECIES = ['Setosa', 'Versicolor', 'Virginica']"
   ]
  },
  {
   "cell_type": "code",
   "execution_count": 3,
   "id": "2b09600e",
   "metadata": {},
   "outputs": [
    {
     "name": "stdout",
     "output_type": "stream",
     "text": [
      "Downloading data from https://storage.googleapis.com/download.tensorflow.org/data/iris_training.csv\n",
      "2194/2194 [==============================] - 0s 0s/step\n",
      "Downloading data from https://storage.googleapis.com/download.tensorflow.org/data/iris_test.csv\n",
      "573/573 [==============================] - 0s 0s/step\n"
     ]
    }
   ],
   "source": [
    "train_path = tf.keras.utils.get_file(\n",
    "    \"iris_training.csv\", \"https://storage.googleapis.com/download.tensorflow.org/data/iris_training.csv\")\n",
    "test_path = tf.keras.utils.get_file(\n",
    "    \"iris_test.csv\", \"https://storage.googleapis.com/download.tensorflow.org/data/iris_test.csv\")\n",
    "\n",
    "train = pd.read_csv(train_path, names=CSV_COLUMN_NAMES, header=0)\n",
    "test = pd.read_csv(test_path, names=CSV_COLUMN_NAMES, header=0)"
   ]
  },
  {
   "cell_type": "code",
   "execution_count": 4,
   "id": "a5841dee",
   "metadata": {},
   "outputs": [
    {
     "data": {
      "text/html": [
       "<div>\n",
       "<style scoped>\n",
       "    .dataframe tbody tr th:only-of-type {\n",
       "        vertical-align: middle;\n",
       "    }\n",
       "\n",
       "    .dataframe tbody tr th {\n",
       "        vertical-align: top;\n",
       "    }\n",
       "\n",
       "    .dataframe thead th {\n",
       "        text-align: right;\n",
       "    }\n",
       "</style>\n",
       "<table border=\"1\" class=\"dataframe\">\n",
       "  <thead>\n",
       "    <tr style=\"text-align: right;\">\n",
       "      <th></th>\n",
       "      <th>SepalLength</th>\n",
       "      <th>SepalWidth</th>\n",
       "      <th>PetalLength</th>\n",
       "      <th>PetalWidth</th>\n",
       "      <th>Species</th>\n",
       "    </tr>\n",
       "  </thead>\n",
       "  <tbody>\n",
       "    <tr>\n",
       "      <th>0</th>\n",
       "      <td>6.4</td>\n",
       "      <td>2.8</td>\n",
       "      <td>5.6</td>\n",
       "      <td>2.2</td>\n",
       "      <td>2</td>\n",
       "    </tr>\n",
       "    <tr>\n",
       "      <th>1</th>\n",
       "      <td>5.0</td>\n",
       "      <td>2.3</td>\n",
       "      <td>3.3</td>\n",
       "      <td>1.0</td>\n",
       "      <td>1</td>\n",
       "    </tr>\n",
       "    <tr>\n",
       "      <th>2</th>\n",
       "      <td>4.9</td>\n",
       "      <td>2.5</td>\n",
       "      <td>4.5</td>\n",
       "      <td>1.7</td>\n",
       "      <td>2</td>\n",
       "    </tr>\n",
       "    <tr>\n",
       "      <th>3</th>\n",
       "      <td>4.9</td>\n",
       "      <td>3.1</td>\n",
       "      <td>1.5</td>\n",
       "      <td>0.1</td>\n",
       "      <td>0</td>\n",
       "    </tr>\n",
       "    <tr>\n",
       "      <th>4</th>\n",
       "      <td>5.7</td>\n",
       "      <td>3.8</td>\n",
       "      <td>1.7</td>\n",
       "      <td>0.3</td>\n",
       "      <td>0</td>\n",
       "    </tr>\n",
       "  </tbody>\n",
       "</table>\n",
       "</div>"
      ],
      "text/plain": [
       "   SepalLength  SepalWidth  PetalLength  PetalWidth  Species\n",
       "0          6.4         2.8          5.6         2.2        2\n",
       "1          5.0         2.3          3.3         1.0        1\n",
       "2          4.9         2.5          4.5         1.7        2\n",
       "3          4.9         3.1          1.5         0.1        0\n",
       "4          5.7         3.8          1.7         0.3        0"
      ]
     },
     "execution_count": 4,
     "metadata": {},
     "output_type": "execute_result"
    }
   ],
   "source": [
    "train.head()"
   ]
  },
  {
   "cell_type": "code",
   "execution_count": 6,
   "id": "c3d3dd6d",
   "metadata": {},
   "outputs": [
    {
     "data": {
      "text/html": [
       "<div>\n",
       "<style scoped>\n",
       "    .dataframe tbody tr th:only-of-type {\n",
       "        vertical-align: middle;\n",
       "    }\n",
       "\n",
       "    .dataframe tbody tr th {\n",
       "        vertical-align: top;\n",
       "    }\n",
       "\n",
       "    .dataframe thead th {\n",
       "        text-align: right;\n",
       "    }\n",
       "</style>\n",
       "<table border=\"1\" class=\"dataframe\">\n",
       "  <thead>\n",
       "    <tr style=\"text-align: right;\">\n",
       "      <th></th>\n",
       "      <th>SepalLength</th>\n",
       "      <th>SepalWidth</th>\n",
       "      <th>PetalLength</th>\n",
       "      <th>PetalWidth</th>\n",
       "    </tr>\n",
       "  </thead>\n",
       "  <tbody>\n",
       "    <tr>\n",
       "      <th>0</th>\n",
       "      <td>6.4</td>\n",
       "      <td>2.8</td>\n",
       "      <td>5.6</td>\n",
       "      <td>2.2</td>\n",
       "    </tr>\n",
       "    <tr>\n",
       "      <th>1</th>\n",
       "      <td>5.0</td>\n",
       "      <td>2.3</td>\n",
       "      <td>3.3</td>\n",
       "      <td>1.0</td>\n",
       "    </tr>\n",
       "    <tr>\n",
       "      <th>2</th>\n",
       "      <td>4.9</td>\n",
       "      <td>2.5</td>\n",
       "      <td>4.5</td>\n",
       "      <td>1.7</td>\n",
       "    </tr>\n",
       "    <tr>\n",
       "      <th>3</th>\n",
       "      <td>4.9</td>\n",
       "      <td>3.1</td>\n",
       "      <td>1.5</td>\n",
       "      <td>0.1</td>\n",
       "    </tr>\n",
       "    <tr>\n",
       "      <th>4</th>\n",
       "      <td>5.7</td>\n",
       "      <td>3.8</td>\n",
       "      <td>1.7</td>\n",
       "      <td>0.3</td>\n",
       "    </tr>\n",
       "  </tbody>\n",
       "</table>\n",
       "</div>"
      ],
      "text/plain": [
       "   SepalLength  SepalWidth  PetalLength  PetalWidth\n",
       "0          6.4         2.8          5.6         2.2\n",
       "1          5.0         2.3          3.3         1.0\n",
       "2          4.9         2.5          4.5         1.7\n",
       "3          4.9         3.1          1.5         0.1\n",
       "4          5.7         3.8          1.7         0.3"
      ]
     },
     "execution_count": 6,
     "metadata": {},
     "output_type": "execute_result"
    }
   ],
   "source": [
    "train_y = train.pop('Species')\n",
    "test_y = test.pop('Species')\n",
    "train.head() "
   ]
  },
  {
   "cell_type": "code",
   "execution_count": 8,
   "id": "f8738176",
   "metadata": {},
   "outputs": [
    {
     "data": {
      "text/plain": [
       "(120, 4)"
      ]
     },
     "execution_count": 8,
     "metadata": {},
     "output_type": "execute_result"
    }
   ],
   "source": [
    "train.shape #120 entries and 4 features"
   ]
  },
  {
   "cell_type": "code",
   "execution_count": 9,
   "id": "f842c33e",
   "metadata": {},
   "outputs": [],
   "source": [
    "#This code is used to convert data into usable dataset for tensor flow\n",
    "def input_fn(features, labels, training=True, batch_size=256):\n",
    "    # Convert the inputs to a Dataset.\n",
    "    dataset = tf.data.Dataset.from_tensor_slices((dict(features), labels))\n",
    "\n",
    "    # Shuffle and repeat if you are in training mode.\n",
    "    if training:\n",
    "        dataset = dataset.shuffle(1000).repeat()\n",
    "    \n",
    "    return dataset.batch(batch_size)"
   ]
  },
  {
   "cell_type": "code",
   "execution_count": 10,
   "id": "8a745086",
   "metadata": {},
   "outputs": [
    {
     "name": "stdout",
     "output_type": "stream",
     "text": [
      "[NumericColumn(key='SepalLength', shape=(1,), default_value=None, dtype=tf.float32, normalizer_fn=None), NumericColumn(key='SepalWidth', shape=(1,), default_value=None, dtype=tf.float32, normalizer_fn=None), NumericColumn(key='PetalLength', shape=(1,), default_value=None, dtype=tf.float32, normalizer_fn=None), NumericColumn(key='PetalWidth', shape=(1,), default_value=None, dtype=tf.float32, normalizer_fn=None)]\n"
     ]
    }
   ],
   "source": [
    "my_feature_columns = []\n",
    "for key in train.keys():\n",
    "    my_feature_columns.append(tf.feature_column.numeric_column(key=key))\n",
    "print(my_feature_columns)"
   ]
  },
  {
   "cell_type": "code",
   "execution_count": 11,
   "id": "5c7b8713",
   "metadata": {},
   "outputs": [
    {
     "name": "stdout",
     "output_type": "stream",
     "text": [
      "INFO:tensorflow:Using default config.\n",
      "WARNING:tensorflow:Using temporary folder as model directory: C:\\Users\\PARTI\\AppData\\Local\\Temp\\tmp0h14iekl\n",
      "INFO:tensorflow:Using config: {'_model_dir': 'C:\\\\Users\\\\PARTI\\\\AppData\\\\Local\\\\Temp\\\\tmp0h14iekl', '_tf_random_seed': None, '_save_summary_steps': 100, '_save_checkpoints_steps': None, '_save_checkpoints_secs': 600, '_session_config': allow_soft_placement: true\n",
      "graph_options {\n",
      "  rewrite_options {\n",
      "    meta_optimizer_iterations: ONE\n",
      "  }\n",
      "}\n",
      ", '_keep_checkpoint_max': 5, '_keep_checkpoint_every_n_hours': 10000, '_log_step_count_steps': 100, '_train_distribute': None, '_device_fn': None, '_protocol': None, '_eval_distribute': None, '_experimental_distribute': None, '_experimental_max_worker_delay_secs': None, '_session_creation_timeout_secs': 7200, '_checkpoint_save_graph_def': True, '_service': None, '_cluster_spec': ClusterSpec({}), '_task_type': 'worker', '_task_id': 0, '_global_id_in_cluster': 0, '_master': '', '_evaluation_master': '', '_is_chief': True, '_num_ps_replicas': 0, '_num_worker_replicas': 1}\n"
     ]
    }
   ],
   "source": [
    "# Build a DNN with 2 hidden layers with 30 and 10 hidden nodes each.\n",
    "classifier = tf.estimator.DNNClassifier(\n",
    "    feature_columns=my_feature_columns,\n",
    "    # Two hidden layers of 30 and 10 nodes respectively.\n",
    "    hidden_units=[30, 10],\n",
    "    # The model must choose between 3 classes.\n",
    "    n_classes=3)"
   ]
  },
  {
   "cell_type": "code",
   "execution_count": 12,
   "id": "d020c81b",
   "metadata": {},
   "outputs": [
    {
     "name": "stdout",
     "output_type": "stream",
     "text": [
      "WARNING:tensorflow:From C:\\Users\\PARTI\\anaconda3\\lib\\site-packages\\tensorflow\\python\\training\\training_util.py:396: Variable.initialized_value (from tensorflow.python.ops.variables) is deprecated and will be removed in a future version.\n",
      "Instructions for updating:\n",
      "Use Variable.read_value. Variables in 2.X are initialized automatically both in eager and graph (inside tf.defun) contexts.\n",
      "INFO:tensorflow:Calling model_fn.\n",
      "WARNING:tensorflow:From C:\\Users\\PARTI\\anaconda3\\lib\\site-packages\\keras\\optimizers\\optimizer_v2\\adagrad.py:93: calling Constant.__init__ (from tensorflow.python.ops.init_ops) with dtype is deprecated and will be removed in a future version.\n",
      "Instructions for updating:\n",
      "Call initializer instance with the dtype argument instead of passing it to the constructor\n",
      "INFO:tensorflow:Done calling model_fn.\n",
      "INFO:tensorflow:Create CheckpointSaverHook.\n",
      "INFO:tensorflow:Graph was finalized.\n",
      "INFO:tensorflow:Running local_init_op.\n",
      "INFO:tensorflow:Done running local_init_op.\n",
      "INFO:tensorflow:Calling checkpoint listeners before saving checkpoint 0...\n",
      "INFO:tensorflow:Saving checkpoints for 0 into C:\\Users\\PARTI\\AppData\\Local\\Temp\\tmp0h14iekl\\model.ckpt.\n",
      "INFO:tensorflow:Calling checkpoint listeners after saving checkpoint 0...\n",
      "INFO:tensorflow:loss = 1.4651375, step = 0\n",
      "INFO:tensorflow:global_step/sec: 954.916\n",
      "INFO:tensorflow:loss = 1.0570918, step = 100 (0.105 sec)\n",
      "INFO:tensorflow:global_step/sec: 1542.61\n",
      "INFO:tensorflow:loss = 1.0022197, step = 200 (0.065 sec)\n",
      "INFO:tensorflow:global_step/sec: 1453.12\n",
      "INFO:tensorflow:loss = 0.9736489, step = 300 (0.070 sec)\n",
      "INFO:tensorflow:global_step/sec: 1453.13\n",
      "INFO:tensorflow:loss = 0.948043, step = 400 (0.068 sec)\n",
      "INFO:tensorflow:global_step/sec: 1222.77\n",
      "INFO:tensorflow:loss = 0.9313867, step = 500 (0.083 sec)\n",
      "INFO:tensorflow:global_step/sec: 1373.56\n",
      "INFO:tensorflow:loss = 0.9239794, step = 600 (0.072 sec)\n",
      "INFO:tensorflow:global_step/sec: 1591.54\n",
      "INFO:tensorflow:loss = 0.9073506, step = 700 (0.063 sec)\n",
      "INFO:tensorflow:global_step/sec: 1542.56\n",
      "INFO:tensorflow:loss = 0.9003296, step = 800 (0.065 sec)\n",
      "INFO:tensorflow:global_step/sec: 1519.21\n",
      "INFO:tensorflow:loss = 0.8822328, step = 900 (0.066 sec)\n",
      "INFO:tensorflow:global_step/sec: 1566.68\n",
      "INFO:tensorflow:loss = 0.8747359, step = 1000 (0.064 sec)\n",
      "INFO:tensorflow:global_step/sec: 1565.94\n",
      "INFO:tensorflow:loss = 0.8572626, step = 1100 (0.064 sec)\n",
      "INFO:tensorflow:global_step/sec: 1576.42\n",
      "INFO:tensorflow:loss = 0.8405554, step = 1200 (0.063 sec)\n",
      "INFO:tensorflow:global_step/sec: 1542.6\n",
      "INFO:tensorflow:loss = 0.84648377, step = 1300 (0.065 sec)\n",
      "INFO:tensorflow:global_step/sec: 1542.55\n",
      "INFO:tensorflow:loss = 0.8218931, step = 1400 (0.065 sec)\n",
      "INFO:tensorflow:global_step/sec: 1566.68\n",
      "INFO:tensorflow:loss = 0.8103422, step = 1500 (0.064 sec)\n",
      "INFO:tensorflow:global_step/sec: 1542.58\n",
      "INFO:tensorflow:loss = 0.78767097, step = 1600 (0.065 sec)\n",
      "INFO:tensorflow:global_step/sec: 1571.58\n",
      "INFO:tensorflow:loss = 0.78641194, step = 1700 (0.064 sec)\n",
      "INFO:tensorflow:global_step/sec: 1542.58\n",
      "INFO:tensorflow:loss = 0.7738889, step = 1800 (0.065 sec)\n",
      "INFO:tensorflow:global_step/sec: 1507.44\n",
      "INFO:tensorflow:loss = 0.7490752, step = 1900 (0.066 sec)\n",
      "INFO:tensorflow:global_step/sec: 1453.16\n",
      "INFO:tensorflow:loss = 0.7462467, step = 2000 (0.069 sec)\n",
      "INFO:tensorflow:global_step/sec: 1412.21\n",
      "INFO:tensorflow:loss = 0.7394959, step = 2100 (0.071 sec)\n",
      "INFO:tensorflow:global_step/sec: 1412.21\n",
      "INFO:tensorflow:loss = 0.73265713, step = 2200 (0.071 sec)\n",
      "INFO:tensorflow:global_step/sec: 1496.54\n",
      "INFO:tensorflow:loss = 0.71458155, step = 2300 (0.067 sec)\n",
      "INFO:tensorflow:global_step/sec: 1496.51\n",
      "INFO:tensorflow:loss = 0.7052175, step = 2400 (0.067 sec)\n",
      "INFO:tensorflow:global_step/sec: 1519.24\n",
      "INFO:tensorflow:loss = 0.6779585, step = 2500 (0.066 sec)\n",
      "INFO:tensorflow:global_step/sec: 1519.16\n",
      "INFO:tensorflow:loss = 0.6851898, step = 2600 (0.065 sec)\n",
      "INFO:tensorflow:global_step/sec: 1519.21\n",
      "INFO:tensorflow:loss = 0.6740782, step = 2700 (0.067 sec)\n",
      "INFO:tensorflow:global_step/sec: 1542.57\n",
      "INFO:tensorflow:loss = 0.68111324, step = 2800 (0.065 sec)\n",
      "INFO:tensorflow:global_step/sec: 1542.57\n",
      "INFO:tensorflow:loss = 0.65563226, step = 2900 (0.065 sec)\n",
      "INFO:tensorflow:global_step/sec: 1519.24\n",
      "INFO:tensorflow:loss = 0.65469134, step = 3000 (0.065 sec)\n",
      "INFO:tensorflow:global_step/sec: 1542.55\n",
      "INFO:tensorflow:loss = 0.629273, step = 3100 (0.066 sec)\n",
      "INFO:tensorflow:global_step/sec: 1542.58\n",
      "INFO:tensorflow:loss = 0.59024704, step = 3200 (0.065 sec)\n",
      "INFO:tensorflow:global_step/sec: 1519.19\n",
      "INFO:tensorflow:loss = 0.57922995, step = 3300 (0.066 sec)\n",
      "INFO:tensorflow:global_step/sec: 1496.52\n",
      "INFO:tensorflow:loss = 0.56978154, step = 3400 (0.067 sec)\n",
      "INFO:tensorflow:global_step/sec: 1461.17\n",
      "INFO:tensorflow:loss = 0.567028, step = 3500 (0.068 sec)\n",
      "INFO:tensorflow:global_step/sec: 1519.22\n",
      "INFO:tensorflow:loss = 0.54503363, step = 3600 (0.066 sec)\n",
      "INFO:tensorflow:global_step/sec: 1542.56\n",
      "INFO:tensorflow:loss = 0.5404209, step = 3700 (0.065 sec)\n",
      "INFO:tensorflow:global_step/sec: 1542.59\n",
      "INFO:tensorflow:loss = 0.5255594, step = 3800 (0.065 sec)\n",
      "INFO:tensorflow:global_step/sec: 1566.65\n",
      "INFO:tensorflow:loss = 0.51713026, step = 3900 (0.064 sec)\n",
      "INFO:tensorflow:global_step/sec: 1572.69\n",
      "INFO:tensorflow:loss = 0.5173019, step = 4000 (0.063 sec)\n",
      "INFO:tensorflow:global_step/sec: 1604.13\n",
      "INFO:tensorflow:loss = 0.4988719, step = 4100 (0.063 sec)\n",
      "INFO:tensorflow:global_step/sec: 1519.18\n",
      "INFO:tensorflow:loss = 0.49562544, step = 4200 (0.066 sec)\n",
      "INFO:tensorflow:global_step/sec: 1519.2\n",
      "INFO:tensorflow:loss = 0.46655905, step = 4300 (0.066 sec)\n",
      "INFO:tensorflow:global_step/sec: 1542\n",
      "INFO:tensorflow:loss = 0.46731216, step = 4400 (0.065 sec)\n",
      "INFO:tensorflow:global_step/sec: 1475.05\n",
      "INFO:tensorflow:loss = 0.48085284, step = 4500 (0.068 sec)\n",
      "INFO:tensorflow:global_step/sec: 1519.19\n",
      "INFO:tensorflow:loss = 0.4717721, step = 4600 (0.065 sec)\n",
      "INFO:tensorflow:global_step/sec: 1566.68\n",
      "INFO:tensorflow:loss = 0.45631844, step = 4700 (0.065 sec)\n",
      "INFO:tensorflow:global_step/sec: 1542.57\n",
      "INFO:tensorflow:loss = 0.4563733, step = 4800 (0.065 sec)\n",
      "INFO:tensorflow:global_step/sec: 1542.58\n",
      "INFO:tensorflow:loss = 0.46056923, step = 4900 (0.065 sec)\n",
      "INFO:tensorflow:Calling checkpoint listeners before saving checkpoint 5000...\n",
      "INFO:tensorflow:Saving checkpoints for 5000 into C:\\Users\\PARTI\\AppData\\Local\\Temp\\tmp0h14iekl\\model.ckpt.\n",
      "INFO:tensorflow:Calling checkpoint listeners after saving checkpoint 5000...\n",
      "INFO:tensorflow:Loss for final step: 0.45466772.\n"
     ]
    },
    {
     "data": {
      "text/plain": [
       "<tensorflow_estimator.python.estimator.canned.dnn.DNNClassifierV2 at 0x28e7395e4c0>"
      ]
     },
     "execution_count": 12,
     "metadata": {},
     "output_type": "execute_result"
    }
   ],
   "source": [
    "#function necessary within classifier.train(**here**) if the items in **here** are not a function, the function does not work\n",
    "#In the previous example we had a function return a function, in this example the function is being called in a lamba to have \n",
    "#the function be in **here**\n",
    "classifier.train(\n",
    "    input_fn=lambda: input_fn(train, train_y, training=True),\n",
    "    steps=5000)\n",
    "# We include a lambda to avoid creating an inner function previously"
   ]
  },
  {
   "cell_type": "code",
   "execution_count": 13,
   "id": "34504b2e",
   "metadata": {},
   "outputs": [
    {
     "name": "stdout",
     "output_type": "stream",
     "text": [
      "INFO:tensorflow:Calling model_fn.\n",
      "INFO:tensorflow:Done calling model_fn.\n",
      "INFO:tensorflow:Starting evaluation at 2023-01-16T12:07:10\n",
      "INFO:tensorflow:Graph was finalized.\n",
      "INFO:tensorflow:Restoring parameters from C:\\Users\\PARTI\\AppData\\Local\\Temp\\tmp0h14iekl\\model.ckpt-5000\n",
      "INFO:tensorflow:Running local_init_op.\n",
      "INFO:tensorflow:Done running local_init_op.\n",
      "INFO:tensorflow:Inference Time : 0.90409s\n",
      "INFO:tensorflow:Finished evaluation at 2023-01-16-12:07:11\n",
      "INFO:tensorflow:Saving dict for global step 5000: accuracy = 0.8, average_loss = 0.52386534, global_step = 5000, loss = 0.52386534\n",
      "INFO:tensorflow:Saving 'checkpoint_path' summary for global step 5000: C:\\Users\\PARTI\\AppData\\Local\\Temp\\tmp0h14iekl\\model.ckpt-5000\n",
      "\n",
      "Test set accuracy: 0.800\n",
      "\n"
     ]
    }
   ],
   "source": [
    "eval_result = classifier.evaluate(\n",
    "    input_fn=lambda: input_fn(test, test_y, training=False))\n",
    "\n",
    "print('\\nTest set accuracy: {accuracy:0.3f}\\n'.format(**eval_result))"
   ]
  },
  {
   "cell_type": "code",
   "execution_count": 16,
   "id": "5d6043bd",
   "metadata": {},
   "outputs": [
    {
     "name": "stdout",
     "output_type": "stream",
     "text": [
      "Please type numeric values as prompted.\n",
      "SepalLength: 1.0\n",
      "SepalWidth: 2.0\n",
      "PetalLength: 3.0\n",
      "PetalWidth: 4.0\n",
      "INFO:tensorflow:Calling model_fn.\n",
      "INFO:tensorflow:Done calling model_fn.\n",
      "INFO:tensorflow:Graph was finalized.\n",
      "INFO:tensorflow:Restoring parameters from C:\\Users\\PARTI\\AppData\\Local\\Temp\\tmp0h14iekl\\model.ckpt-5000\n",
      "INFO:tensorflow:Running local_init_op.\n",
      "INFO:tensorflow:Done running local_init_op.\n",
      "Prediction is \"Virginica\" (48.7%)\n"
     ]
    }
   ],
   "source": [
    "def input_fn(features, batch_size=256):\n",
    "    # Convert the inputs to a Dataset without labels.\n",
    "    return tf.data.Dataset.from_tensor_slices(dict(features)).batch(batch_size)\n",
    "\n",
    "features = ['SepalLength', 'SepalWidth', 'PetalLength', 'PetalWidth']\n",
    "predict = {}\n",
    "\n",
    "print(\"Please type numeric values as prompted.\")\n",
    "for feature in features:\n",
    "  valid = True\n",
    "  while valid: \n",
    "    val = input(feature + \": \")\n",
    "    if not val.isdigit(): valid = False\n",
    "\n",
    "  predict[feature] = [float(val)]\n",
    "\n",
    "predictions = classifier.predict(input_fn=lambda: input_fn(predict))\n",
    "for pred_dict in predictions:\n",
    "    class_id = pred_dict['class_ids'][0]\n",
    "    probability = pred_dict['probabilities'][class_id]\n",
    "\n",
    "    print('Prediction is \"{}\" ({:.1f}%)'.format(\n",
    "        SPECIES[class_id], 100 * probability))"
   ]
  }
 ],
 "metadata": {
  "kernelspec": {
   "display_name": "Python 3 (ipykernel)",
   "language": "python",
   "name": "python3"
  },
  "language_info": {
   "codemirror_mode": {
    "name": "ipython",
    "version": 3
   },
   "file_extension": ".py",
   "mimetype": "text/x-python",
   "name": "python",
   "nbconvert_exporter": "python",
   "pygments_lexer": "ipython3",
   "version": "3.9.7"
  }
 },
 "nbformat": 4,
 "nbformat_minor": 5
}
